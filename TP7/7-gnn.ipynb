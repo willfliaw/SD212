{
 "cells": [
  {
   "attachments": {},
   "cell_type": "markdown",
   "metadata": {},
   "source": [
    "# SD212: Graph mining\n",
    "\n",
    "## Lab 7: Graph neural networks"
   ]
  },
  {
   "attachments": {},
   "cell_type": "markdown",
   "metadata": {},
   "source": [
    "In this lab, you will learn to classify nodes using graph neural networks.\n",
    "\n",
    "We use [DGL](https://www.dgl.ai) (deep graph library), which relies on pytorch."
   ]
  },
  {
   "cell_type": "code",
   "execution_count": 138,
   "metadata": {},
   "outputs": [],
   "source": [
    "# pip install dgl"
   ]
  },
  {
   "attachments": {},
   "cell_type": "markdown",
   "metadata": {
    "tags": []
   },
   "source": [
    "## Import"
   ]
  },
  {
   "cell_type": "code",
   "execution_count": 2,
   "metadata": {},
   "outputs": [],
   "source": [
    "import numpy as np\n",
    "from scipy import sparse"
   ]
  },
  {
   "cell_type": "code",
   "execution_count": 3,
   "metadata": {},
   "outputs": [],
   "source": [
    "from sknetwork.data import load_netset\n",
    "from sknetwork.classification import DiffusionClassifier, get_accuracy_score\n",
    "from sknetwork.embedding import Spectral\n",
    "from sknetwork.utils import directed2undirected"
   ]
  },
  {
   "cell_type": "code",
   "execution_count": 4,
   "metadata": {},
   "outputs": [],
   "source": [
    "import dgl\n",
    "from dgl.nn import SAGEConv\n",
    "from dgl import function as fn"
   ]
  },
  {
   "cell_type": "code",
   "execution_count": 5,
   "metadata": {},
   "outputs": [],
   "source": [
    "import torch\n",
    "from torch import nn\n",
    "import torch.nn.functional as F"
   ]
  },
  {
   "cell_type": "code",
   "execution_count": 6,
   "metadata": {},
   "outputs": [],
   "source": [
    "# ignore warnings from DGL\n",
    "import warnings\n",
    "warnings.filterwarnings('ignore')"
   ]
  },
  {
   "attachments": {},
   "cell_type": "markdown",
   "metadata": {},
   "source": [
    "## Load data"
   ]
  },
  {
   "attachments": {},
   "cell_type": "markdown",
   "metadata": {},
   "source": [
    "We will work on the following datasets (see the [NetSet](https://netset.telecom-paris.fr/) collection for details):\n",
    "* Cora (directed graph + bipartite graph)\n",
    "* WikiVitals (directed graph + bipartite graph)\n",
    "\n",
    "Both datasets are graphs with node features (given by the bipartite graph) and ground-truth labels."
   ]
  },
  {
   "cell_type": "code",
   "execution_count": 144,
   "metadata": {},
   "outputs": [
    {
     "name": "stdout",
     "output_type": "stream",
     "text": [
      "Parsing files...\n",
      "Done.\n",
      "Parsing files...\n",
      "Done.\n"
     ]
    }
   ],
   "source": [
    "cora = load_netset('cora')\n",
    "wikivitals = load_netset('wikivitals')"
   ]
  },
  {
   "cell_type": "code",
   "execution_count": 145,
   "metadata": {},
   "outputs": [],
   "source": [
    "dataset = cora"
   ]
  },
  {
   "cell_type": "code",
   "execution_count": 146,
   "metadata": {},
   "outputs": [],
   "source": [
    "adjacency = dataset.adjacency\n",
    "biadjacency = dataset.biadjacency\n",
    "labels = dataset.labels"
   ]
  },
  {
   "cell_type": "code",
   "execution_count": 147,
   "metadata": {},
   "outputs": [],
   "source": [
    "# we use undirected graphs\n",
    "adjacency = directed2undirected(adjacency)"
   ]
  },
  {
   "cell_type": "code",
   "execution_count": 148,
   "metadata": {},
   "outputs": [],
   "source": [
    "# for Wikivitals, use spectral embedding of the bipartite graph as features\n",
    "\n",
    "if dataset.meta.name.startswith('Wikivitals'):\n",
    "    spectral = Spectral(50)\n",
    "    features = spectral.fit_transform(biadjacency)\n",
    "else:\n",
    "    features = biadjacency.toarray()"
   ]
  },
  {
   "cell_type": "code",
   "execution_count": 149,
   "metadata": {},
   "outputs": [],
   "source": [
    "def split_train_test_val(n_samples, test_ratio=0.1, val_ratio=0.1, seed=None):\n",
    "    \"\"\"Split the samples into train / test / validation sets.\n",
    "    \n",
    "    Returns\n",
    "    -------\n",
    "    train: np.ndarray\n",
    "        Boolean mask\n",
    "    test: np.ndarray\n",
    "        Boolean mask\n",
    "    validation: np.ndarray\n",
    "        Boolean mask\n",
    "    \"\"\"\n",
    "    if seed:\n",
    "        np.random.seed(seed)\n",
    "\n",
    "    # test\n",
    "    index = np.random.choice(n_samples, int(np.ceil(n_samples * test_ratio)), replace=False)\n",
    "    test = np.zeros(n_samples, dtype=bool)\n",
    "    test[index] = 1\n",
    "    \n",
    "    # validation\n",
    "    index = np.random.choice(np.argwhere(~test).ravel(), int(np.ceil(n_samples * val_ratio)), replace=False)\n",
    "    val = np.zeros(n_samples, dtype=bool)\n",
    "    val[index] = 1\n",
    "    \n",
    "    # train\n",
    "    train = np.ones(n_samples, dtype=bool)\n",
    "    train[test] = 0\n",
    "    train[val] = 0\n",
    "    return train, test, val"
   ]
  },
  {
   "cell_type": "code",
   "execution_count": 150,
   "metadata": {},
   "outputs": [],
   "source": [
    "train, test, val = split_train_test_val(len(labels))"
   ]
  },
  {
   "attachments": {},
   "cell_type": "markdown",
   "metadata": {},
   "source": [
    "## Graph and tensors"
   ]
  },
  {
   "attachments": {},
   "cell_type": "markdown",
   "metadata": {},
   "source": [
    "In DGL, the graph is represented as an object, the features and labels as tensors."
   ]
  },
  {
   "cell_type": "code",
   "execution_count": 151,
   "metadata": {},
   "outputs": [],
   "source": [
    "# graph as an object\n",
    "graph = dgl.from_scipy(adjacency)"
   ]
  },
  {
   "cell_type": "code",
   "execution_count": 152,
   "metadata": {},
   "outputs": [
    {
     "data": {
      "text/plain": [
       "dgl.heterograph.DGLGraph"
      ]
     },
     "execution_count": 152,
     "metadata": {},
     "output_type": "execute_result"
    }
   ],
   "source": [
    "type(graph)"
   ]
  },
  {
   "cell_type": "code",
   "execution_count": 153,
   "metadata": {},
   "outputs": [],
   "source": [
    "# features and labels as tensors\n",
    "features = torch.Tensor(features)\n",
    "labels = torch.Tensor(labels).long()"
   ]
  },
  {
   "cell_type": "code",
   "execution_count": 154,
   "metadata": {},
   "outputs": [],
   "source": [
    "# masks as tensors\n",
    "train = torch.Tensor(train).bool()\n",
    "test = torch.Tensor(test).bool()\n",
    "val = torch.Tensor(val).bool()"
   ]
  },
  {
   "attachments": {},
   "cell_type": "markdown",
   "metadata": {},
   "source": [
    "## Graph neural network"
   ]
  },
  {
   "attachments": {},
   "cell_type": "markdown",
   "metadata": {},
   "source": [
    "We start with a simple graph neural network without hidden layer. The output layer is of type [GraphSAGE](https://docs.dgl.ai/generated/dgl.nn.pytorch.conv.SAGEConv.html)."
   ]
  },
  {
   "cell_type": "code",
   "execution_count": 155,
   "metadata": {},
   "outputs": [],
   "source": [
    "class GNN(nn.Module):\n",
    "    def __init__(self, dim_input, dim_output):\n",
    "        super(GNN, self).__init__()\n",
    "        self.conv = SAGEConv(dim_input, dim_output, 'mean')\n",
    "        \n",
    "    def forward(self, graph, features):\n",
    "        output = self.conv(graph, features)\n",
    "        return output"
   ]
  },
  {
   "attachments": {},
   "cell_type": "markdown",
   "metadata": {},
   "source": [
    "## To do\n",
    "\n",
    "* Train the model on Cora and get accuracy.\n",
    "* Compare with the same model trained on an empty graph.\n",
    "* Add a hidden layer with ReLu activation function (e.g., dimension = 20) and retrain the model. \n",
    "* Compare with a classifier based on heat diffusion."
   ]
  },
  {
   "cell_type": "code",
   "execution_count": 156,
   "metadata": {},
   "outputs": [],
   "source": [
    "def init_model(model, features, labels):\n",
    "    '''Init the GNN with appropriate dimensions.'''\n",
    "    dim_input = features.shape[1]\n",
    "    dim_output = len(labels.unique())\n",
    "    return model(dim_input, dim_output)   "
   ]
  },
  {
   "cell_type": "code",
   "execution_count": 157,
   "metadata": {},
   "outputs": [],
   "source": [
    "def eval_model(gnn, graph, features, labels, test=test):\n",
    "    '''Evaluate the model in terms of accuracy.'''\n",
    "    gnn.eval()\n",
    "    with torch.no_grad():\n",
    "        output = gnn(graph, features)\n",
    "        labels_pred = torch.max(output, dim=1)[1]\n",
    "        score = np.mean(np.array(labels[test]) == np.array(labels_pred[test]))\n",
    "    return score"
   ]
  },
  {
   "cell_type": "code",
   "execution_count": 158,
   "metadata": {},
   "outputs": [],
   "source": [
    "def train_model(gnn, graph, features, labels, train=train, val=val, n_epochs=100, lr=0.01, verbose=True):\n",
    "    '''Train the GNN.'''\n",
    "    optimizer = torch.optim.Adam(gnn.parameters(), lr=lr)\n",
    "    \n",
    "    gnn.train()\n",
    "    scores = []\n",
    "    \n",
    "    for t in range(n_epochs):   \n",
    "        \n",
    "        # forward\n",
    "        output = gnn(graph, features)\n",
    "        logp = nn.functional.log_softmax(output, 1)\n",
    "        loss = nn.functional.nll_loss(logp[train], labels[train])\n",
    "\n",
    "        # backward\n",
    "        optimizer.zero_grad()\n",
    "        loss.backward()\n",
    "        optimizer.step()\n",
    "\n",
    "        # evaluation\n",
    "        score = eval_model(gnn, graph, features, labels, val)\n",
    "        scores.append(score)\n",
    "        \n",
    "        if verbose and t % 10 == 0:\n",
    "            print(\"Epoch {:02d} | Loss {:.3f} | Accuracy {:.3f}\".format(t, loss.item(), score))"
   ]
  },
  {
   "cell_type": "code",
   "execution_count": 159,
   "metadata": {},
   "outputs": [],
   "source": [
    "gnn = init_model(GNN, features, labels)"
   ]
  },
  {
   "cell_type": "code",
   "execution_count": 160,
   "metadata": {},
   "outputs": [
    {
     "name": "stdout",
     "output_type": "stream",
     "text": [
      "Epoch 00 | Loss 1.986 | Accuracy 0.325\n",
      "Epoch 10 | Loss 0.595 | Accuracy 0.797\n",
      "Epoch 20 | Loss 0.247 | Accuracy 0.823\n",
      "Epoch 30 | Loss 0.134 | Accuracy 0.838\n",
      "Epoch 40 | Loss 0.086 | Accuracy 0.823\n",
      "Epoch 50 | Loss 0.062 | Accuracy 0.808\n",
      "Epoch 60 | Loss 0.049 | Accuracy 0.808\n",
      "Epoch 70 | Loss 0.040 | Accuracy 0.808\n",
      "Epoch 80 | Loss 0.034 | Accuracy 0.808\n"
     ]
    },
    {
     "name": "stdout",
     "output_type": "stream",
     "text": [
      "Epoch 90 | Loss 0.029 | Accuracy 0.808\n"
     ]
    }
   ],
   "source": [
    "train_model(gnn, graph, features, labels)"
   ]
  },
  {
   "cell_type": "code",
   "execution_count": 161,
   "metadata": {},
   "outputs": [
    {
     "data": {
      "text/plain": [
       "0.8376383763837638"
      ]
     },
     "execution_count": 161,
     "metadata": {},
     "output_type": "execute_result"
    }
   ],
   "source": [
    "eval_model(gnn, graph, features, labels)"
   ]
  },
  {
   "cell_type": "code",
   "execution_count": 162,
   "metadata": {},
   "outputs": [
    {
     "data": {
      "text/plain": [
       "0.12546125461254612"
      ]
     },
     "execution_count": 162,
     "metadata": {},
     "output_type": "execute_result"
    }
   ],
   "source": [
    "# Compare with the same model trained on empty graph\n",
    "gnn = init_model(GNN, features, labels)\n",
    "\n",
    "emptyGraph = dgl.from_scipy(sparse.csr_matrix((len(labels), len(labels))))\n",
    "\n",
    "train_model(gnn, emptyGraph, features, labels, n_epochs=0)\n",
    "\n",
    "eval_model(gnn, emptyGraph, features, labels)"
   ]
  },
  {
   "cell_type": "code",
   "execution_count": 163,
   "metadata": {},
   "outputs": [
    {
     "name": "stdout",
     "output_type": "stream",
     "text": [
      "Epoch 00 | Loss 2.077 | Accuracy 0.376\n"
     ]
    },
    {
     "name": "stdout",
     "output_type": "stream",
     "text": [
      "Epoch 10 | Loss 0.216 | Accuracy 0.823\n",
      "Epoch 20 | Loss 0.051 | Accuracy 0.834\n",
      "Epoch 30 | Loss 0.012 | Accuracy 0.838\n",
      "Epoch 40 | Loss 0.005 | Accuracy 0.830\n",
      "Epoch 50 | Loss 0.003 | Accuracy 0.830\n",
      "Epoch 60 | Loss 0.002 | Accuracy 0.830\n",
      "Epoch 70 | Loss 0.001 | Accuracy 0.830\n",
      "Epoch 80 | Loss 0.001 | Accuracy 0.830\n",
      "Epoch 90 | Loss 0.001 | Accuracy 0.830\n"
     ]
    },
    {
     "data": {
      "text/plain": [
       "0.8892988929889298"
      ]
     },
     "execution_count": 163,
     "metadata": {},
     "output_type": "execute_result"
    }
   ],
   "source": [
    "# Add a hidden layer with ReLu activation function (e.g., dimension = 20) and retrain the model. \n",
    "\n",
    "class GNN_HIDDEN(nn.Module):\n",
    "    def __init__(self, dim_input, dim_hidden, dim_output):\n",
    "        super(GNN_HIDDEN, self).__init__()\n",
    "        self.conv1 = SAGEConv(dim_input, dim_hidden, 'mean')\n",
    "        self.conv2 = SAGEConv(dim_hidden, dim_output, 'mean')\n",
    "        \n",
    "    def forward(self, graph, features):\n",
    "        output = self.conv1(graph, features)\n",
    "        output = F.relu(output)\n",
    "        output = self.conv2(graph, output)\n",
    "        return output\n",
    "\n",
    "def init_model(model, features, labels):\n",
    "    '''Init the GNN with appropriate dimensions.'''\n",
    "    dim_input = features.shape[1]\n",
    "    dim_hidden = 20\n",
    "    dim_output = len(labels.unique())\n",
    "    return model(dim_input, dim_hidden, dim_output)\n",
    "\n",
    "gnn = init_model(GNN_HIDDEN, features, labels)\n",
    "\n",
    "train_model(gnn, graph, features, labels)\n",
    "\n",
    "eval_model(gnn, graph, features, labels)"
   ]
  },
  {
   "cell_type": "code",
   "execution_count": 164,
   "metadata": {},
   "outputs": [
    {
     "name": "stdout",
     "output_type": "stream",
     "text": [
      "tensor([2, 2, 1,  ..., 6, 6, 6])\n",
      "1.0\n"
     ]
    }
   ],
   "source": [
    "# Compare with a classifier based on heat diffusion\n",
    "\n",
    "diffusion = DiffusionClassifier()\n",
    "\n",
    "print(labels)\n",
    "\n",
    "labels_numpy = labels.numpy()\n",
    "\n",
    "labels_pred = diffusion.fit_predict(adjacency, labels_numpy)\n",
    "\n",
    "accuracy = get_accuracy_score(labels_numpy, labels_pred)\n",
    "print(accuracy)"
   ]
  },
  {
   "attachments": {},
   "cell_type": "markdown",
   "metadata": {},
   "source": [
    "## Build your own GNN"
   ]
  },
  {
   "attachments": {},
   "cell_type": "markdown",
   "metadata": {},
   "source": [
    "You will now build your own GNN. We start with the graph convolution layer."
   ]
  },
  {
   "cell_type": "code",
   "execution_count": 165,
   "metadata": {},
   "outputs": [],
   "source": [
    "class GraphConvLayer(nn.Module):\n",
    "    def __init__(self, dim_input, dim_output):\n",
    "        super(GraphConvLayer, self).__init__()\n",
    "        self.layer = nn.Linear(dim_input, dim_output)\n",
    "        \n",
    "    def forward(self, graph, signal):\n",
    "        with graph.local_scope():\n",
    "            # message passing\n",
    "            graph.ndata['node'] = signal\n",
    "            graph.update_all(fn.copy_u('node', 'message'), fn.mean('message', 'average'))\n",
    "            h = graph.ndata['average']\n",
    "            return self.layer(h)"
   ]
  },
  {
   "attachments": {},
   "cell_type": "markdown",
   "metadata": {},
   "source": [
    "## To do\n",
    "\n",
    "* Build a GNN with two layers (hidden layer + output) based on this graph convolution layer.\n",
    "* Train this GNN and compare the results with the previous one.\n",
    "* Add the input signal to the output of the graph convolution layer and observe the results.\n",
    "* Retrain the same GNN without message passing in the first layer."
   ]
  },
  {
   "cell_type": "code",
   "execution_count": 166,
   "metadata": {},
   "outputs": [],
   "source": [
    "# Build a GNN with two layers (hidden layer + output) based on this graph convolution layer.\n",
    "\n",
    "class GNN_HIDDEN(nn.Module):\n",
    "    def __init__(self, dim_input, dim_hidden, dim_output):\n",
    "        super(GNN_HIDDEN, self).__init__()\n",
    "        self.conv1 = GraphConvLayer(dim_input, dim_hidden)\n",
    "        self.conv2 = GraphConvLayer(dim_hidden, dim_output)\n",
    "        \n",
    "    def forward(self, graph, features):\n",
    "        output = self.conv1(graph, features)\n",
    "        output = F.relu(output)\n",
    "        output = self.conv2(graph, output)\n",
    "        return output\n",
    "    \n",
    "def init_model(model, features, labels):\n",
    "    '''Init the GNN with appropriate dimensions.'''\n",
    "    dim_input = features.shape[1]\n",
    "    dim_hidden = 20\n",
    "    dim_output = len(labels.unique())\n",
    "    return model(dim_input, dim_hidden, dim_output)\n",
    "\n",
    "gnn = init_model(GNN_HIDDEN, features, labels)"
   ]
  },
  {
   "cell_type": "code",
   "execution_count": 167,
   "metadata": {},
   "outputs": [
    {
     "name": "stdout",
     "output_type": "stream",
     "text": [
      "Epoch 00 | Loss 1.935 | Accuracy 0.280\n"
     ]
    },
    {
     "name": "stdout",
     "output_type": "stream",
     "text": [
      "Epoch 10 | Loss 1.022 | Accuracy 0.753\n",
      "Epoch 20 | Loss 0.431 | Accuracy 0.841\n",
      "Epoch 30 | Loss 0.253 | Accuracy 0.841\n",
      "Epoch 40 | Loss 0.184 | Accuracy 0.823\n",
      "Epoch 50 | Loss 0.144 | Accuracy 0.819\n",
      "Epoch 60 | Loss 0.117 | Accuracy 0.823\n",
      "Epoch 70 | Loss 0.099 | Accuracy 0.827\n",
      "Epoch 80 | Loss 0.085 | Accuracy 0.830\n",
      "Epoch 90 | Loss 0.073 | Accuracy 0.830\n"
     ]
    },
    {
     "data": {
      "text/plain": [
       "0.8376383763837638"
      ]
     },
     "execution_count": 167,
     "metadata": {},
     "output_type": "execute_result"
    }
   ],
   "source": [
    "# Train this GNN and compare the results with the previous one.\n",
    "\n",
    "train_model(gnn, graph, features, labels)\n",
    "\n",
    "eval_model(gnn, graph, features, labels)\n"
   ]
  },
  {
   "cell_type": "code",
   "execution_count": 168,
   "metadata": {},
   "outputs": [
    {
     "ename": "RuntimeError",
     "evalue": "The size of tensor a (7) must match the size of tensor b (1433) at non-singleton dimension 1",
     "output_type": "error",
     "traceback": [
      "\u001b[1;31m---------------------------------------------------------------------------\u001b[0m",
      "\u001b[1;31mRuntimeError\u001b[0m                              Traceback (most recent call last)",
      "Cell \u001b[1;32mIn[168], line 25\u001b[0m\n\u001b[0;32m     21\u001b[0m     \u001b[39mreturn\u001b[39;00m model(dim_input, dim_hidden, dim_output)\n\u001b[0;32m     23\u001b[0m gnn \u001b[39m=\u001b[39m init_model(GNN_HIDDEN, features, labels)\n\u001b[1;32m---> 25\u001b[0m train_model(gnn, graph, features, labels)\n\u001b[0;32m     27\u001b[0m eval_model(gnn, graph, features, labels)\n",
      "Cell \u001b[1;32mIn[158], line 11\u001b[0m, in \u001b[0;36mtrain_model\u001b[1;34m(gnn, graph, features, labels, train, val, n_epochs, lr, verbose)\u001b[0m\n\u001b[0;32m      6\u001b[0m scores \u001b[39m=\u001b[39m []\n\u001b[0;32m      8\u001b[0m \u001b[39mfor\u001b[39;00m t \u001b[39min\u001b[39;00m \u001b[39mrange\u001b[39m(n_epochs):   \n\u001b[0;32m      9\u001b[0m     \n\u001b[0;32m     10\u001b[0m     \u001b[39m# forward\u001b[39;00m\n\u001b[1;32m---> 11\u001b[0m     output \u001b[39m=\u001b[39m gnn(graph, features)\n\u001b[0;32m     12\u001b[0m     logp \u001b[39m=\u001b[39m nn\u001b[39m.\u001b[39mfunctional\u001b[39m.\u001b[39mlog_softmax(output, \u001b[39m1\u001b[39m)\n\u001b[0;32m     13\u001b[0m     loss \u001b[39m=\u001b[39m nn\u001b[39m.\u001b[39mfunctional\u001b[39m.\u001b[39mnll_loss(logp[train], labels[train])\n",
      "File \u001b[1;32m~\\AppData\\Roaming\\Python\\Python311\\site-packages\\torch\\nn\\modules\\module.py:1501\u001b[0m, in \u001b[0;36mModule._call_impl\u001b[1;34m(self, *args, **kwargs)\u001b[0m\n\u001b[0;32m   1496\u001b[0m \u001b[39m# If we don't have any hooks, we want to skip the rest of the logic in\u001b[39;00m\n\u001b[0;32m   1497\u001b[0m \u001b[39m# this function, and just call forward.\u001b[39;00m\n\u001b[0;32m   1498\u001b[0m \u001b[39mif\u001b[39;00m \u001b[39mnot\u001b[39;00m (\u001b[39mself\u001b[39m\u001b[39m.\u001b[39m_backward_hooks \u001b[39mor\u001b[39;00m \u001b[39mself\u001b[39m\u001b[39m.\u001b[39m_backward_pre_hooks \u001b[39mor\u001b[39;00m \u001b[39mself\u001b[39m\u001b[39m.\u001b[39m_forward_hooks \u001b[39mor\u001b[39;00m \u001b[39mself\u001b[39m\u001b[39m.\u001b[39m_forward_pre_hooks\n\u001b[0;32m   1499\u001b[0m         \u001b[39mor\u001b[39;00m _global_backward_pre_hooks \u001b[39mor\u001b[39;00m _global_backward_hooks\n\u001b[0;32m   1500\u001b[0m         \u001b[39mor\u001b[39;00m _global_forward_hooks \u001b[39mor\u001b[39;00m _global_forward_pre_hooks):\n\u001b[1;32m-> 1501\u001b[0m     \u001b[39mreturn\u001b[39;00m forward_call(\u001b[39m*\u001b[39;49margs, \u001b[39m*\u001b[39;49m\u001b[39m*\u001b[39;49mkwargs)\n\u001b[0;32m   1502\u001b[0m \u001b[39m# Do not call functions when jit is used\u001b[39;00m\n\u001b[0;32m   1503\u001b[0m full_backward_hooks, non_full_backward_hooks \u001b[39m=\u001b[39m [], []\n",
      "Cell \u001b[1;32mIn[168], line 13\u001b[0m, in \u001b[0;36mGNN_HIDDEN.forward\u001b[1;34m(self, graph, features)\u001b[0m\n\u001b[0;32m     11\u001b[0m output \u001b[39m=\u001b[39m F\u001b[39m.\u001b[39mrelu(output)\n\u001b[0;32m     12\u001b[0m output \u001b[39m=\u001b[39m \u001b[39mself\u001b[39m\u001b[39m.\u001b[39mconv2(graph, output)\n\u001b[1;32m---> 13\u001b[0m output \u001b[39m=\u001b[39m output \u001b[39m+\u001b[39;49m features\n\u001b[0;32m     14\u001b[0m \u001b[39mreturn\u001b[39;00m output\n",
      "\u001b[1;31mRuntimeError\u001b[0m: The size of tensor a (7) must match the size of tensor b (1433) at non-singleton dimension 1"
     ]
    }
   ],
   "source": [
    "# Add the input signal to the output of the graph convolution layer and observe the results.\n",
    "\n",
    "class GNN_HIDDEN(nn.Module):\n",
    "    def __init__(self, dim_input, dim_hidden, dim_output):\n",
    "        super(GNN_HIDDEN, self).__init__()\n",
    "        self.conv1 = GraphConvLayer(dim_input, dim_hidden)\n",
    "        self.conv2 = GraphConvLayer(dim_hidden, dim_output)\n",
    "        \n",
    "    def forward(self, graph, features):\n",
    "        output = self.conv1(graph, features)\n",
    "        output = F.relu(output)\n",
    "        output = self.conv2(graph, output)\n",
    "        output = output + features\n",
    "        return output\n",
    "    \n",
    "def init_model(model, features, labels):\n",
    "    '''Init the GNN with appropriate dimensions.'''\n",
    "    dim_input = features.shape[1]\n",
    "    dim_hidden = 20\n",
    "    dim_output = len(labels.unique())\n",
    "    return model(dim_input, dim_hidden, dim_output)\n",
    "\n",
    "gnn = init_model(GNN_HIDDEN, features, labels)\n",
    "\n",
    "train_model(gnn, graph, features, labels)\n",
    "\n",
    "eval_model(gnn, graph, features, labels)"
   ]
  },
  {
   "attachments": {},
   "cell_type": "markdown",
   "metadata": {},
   "source": [
    "## Heat diffusion as a GNN"
   ]
  },
  {
   "attachments": {},
   "cell_type": "markdown",
   "metadata": {},
   "source": [
    "Node classification by heat diffusion can be seen as a GNN without training, using a one-hot encoding of labels. Features are ignored."
   ]
  },
  {
   "attachments": {},
   "cell_type": "markdown",
   "metadata": {},
   "source": [
    "## To do\n",
    "\n",
    "* Build a special GNN whose output corresponds to one step of heat diffusion in the graph.\n",
    "* Use this GNN to classify nodes by heat diffusion, with temperature centering."
   ]
  },
  {
   "cell_type": "code",
   "execution_count": 169,
   "metadata": {},
   "outputs": [],
   "source": [
    "from sknetwork.utils import get_membership"
   ]
  },
  {
   "cell_type": "code",
   "execution_count": 170,
   "metadata": {},
   "outputs": [],
   "source": [
    "labels_one_hot = get_membership(labels).toarray()\n",
    "labels_one_hot = torch.Tensor(labels_one_hot)"
   ]
  },
  {
   "cell_type": "code",
   "execution_count": 171,
   "metadata": {},
   "outputs": [],
   "source": [
    "class Diffusion(nn.Module):\n",
    "    def __init__(self):\n",
    "        super(Diffusion, self).__init__()\n",
    "        \n",
    "    def forward(self, graph, signal, mask):\n",
    "        '''Mask is a boolean tensor giving the training set.'''\n",
    "        with graph.local_scope():\n",
    "            # message passing\n",
    "            graph.ndata['node'] = signal\n",
    "            graph.update_all(fn.copy_u('node', 'message'), fn.mean('message', 'average'))\n",
    "            signal = graph.ndata['average']\n",
    "            h = signal\n",
    "            return h"
   ]
  },
  {
   "cell_type": "code",
   "execution_count": 172,
   "metadata": {},
   "outputs": [],
   "source": [
    "diffusion = Diffusion()"
   ]
  },
  {
   "cell_type": "code",
   "execution_count": 173,
   "metadata": {},
   "outputs": [
    {
     "ename": "RuntimeError",
     "evalue": "The size of tensor a (7) must match the size of tensor b (1433) at non-singleton dimension 1",
     "output_type": "error",
     "traceback": [
      "\u001b[1;31m---------------------------------------------------------------------------\u001b[0m",
      "\u001b[1;31mRuntimeError\u001b[0m                              Traceback (most recent call last)",
      "Cell \u001b[1;32mIn[173], line 12\u001b[0m\n\u001b[0;32m      9\u001b[0m temperatures \u001b[39m-\u001b[39m\u001b[39m=\u001b[39m temperatures\u001b[39m.\u001b[39mmean(axis\u001b[39m=\u001b[39m\u001b[39m0\u001b[39m)\n\u001b[0;32m     11\u001b[0m \u001b[39m# classification\u001b[39;00m\n\u001b[1;32m---> 12\u001b[0m logits \u001b[39m=\u001b[39m torch\u001b[39m.\u001b[39mmatmul(temperatures, gnn(graph, features))\n\u001b[0;32m     13\u001b[0m labels_pred \u001b[39m=\u001b[39m torch\u001b[39m.\u001b[39margmax(logits, axis\u001b[39m=\u001b[39m\u001b[39m1\u001b[39m)\n\u001b[0;32m     15\u001b[0m accuracy \u001b[39m=\u001b[39m get_accuracy_score(labels[train]\u001b[39m.\u001b[39mnumpy(), labels_pred[train]\u001b[39m.\u001b[39mnumpy())\n",
      "File \u001b[1;32m~\\AppData\\Roaming\\Python\\Python311\\site-packages\\torch\\nn\\modules\\module.py:1501\u001b[0m, in \u001b[0;36mModule._call_impl\u001b[1;34m(self, *args, **kwargs)\u001b[0m\n\u001b[0;32m   1496\u001b[0m \u001b[39m# If we don't have any hooks, we want to skip the rest of the logic in\u001b[39;00m\n\u001b[0;32m   1497\u001b[0m \u001b[39m# this function, and just call forward.\u001b[39;00m\n\u001b[0;32m   1498\u001b[0m \u001b[39mif\u001b[39;00m \u001b[39mnot\u001b[39;00m (\u001b[39mself\u001b[39m\u001b[39m.\u001b[39m_backward_hooks \u001b[39mor\u001b[39;00m \u001b[39mself\u001b[39m\u001b[39m.\u001b[39m_backward_pre_hooks \u001b[39mor\u001b[39;00m \u001b[39mself\u001b[39m\u001b[39m.\u001b[39m_forward_hooks \u001b[39mor\u001b[39;00m \u001b[39mself\u001b[39m\u001b[39m.\u001b[39m_forward_pre_hooks\n\u001b[0;32m   1499\u001b[0m         \u001b[39mor\u001b[39;00m _global_backward_pre_hooks \u001b[39mor\u001b[39;00m _global_backward_hooks\n\u001b[0;32m   1500\u001b[0m         \u001b[39mor\u001b[39;00m _global_forward_hooks \u001b[39mor\u001b[39;00m _global_forward_pre_hooks):\n\u001b[1;32m-> 1501\u001b[0m     \u001b[39mreturn\u001b[39;00m forward_call(\u001b[39m*\u001b[39;49margs, \u001b[39m*\u001b[39;49m\u001b[39m*\u001b[39;49mkwargs)\n\u001b[0;32m   1502\u001b[0m \u001b[39m# Do not call functions when jit is used\u001b[39;00m\n\u001b[0;32m   1503\u001b[0m full_backward_hooks, non_full_backward_hooks \u001b[39m=\u001b[39m [], []\n",
      "Cell \u001b[1;32mIn[168], line 13\u001b[0m, in \u001b[0;36mGNN_HIDDEN.forward\u001b[1;34m(self, graph, features)\u001b[0m\n\u001b[0;32m     11\u001b[0m output \u001b[39m=\u001b[39m F\u001b[39m.\u001b[39mrelu(output)\n\u001b[0;32m     12\u001b[0m output \u001b[39m=\u001b[39m \u001b[39mself\u001b[39m\u001b[39m.\u001b[39mconv2(graph, output)\n\u001b[1;32m---> 13\u001b[0m output \u001b[39m=\u001b[39m output \u001b[39m+\u001b[39;49m features\n\u001b[0;32m     14\u001b[0m \u001b[39mreturn\u001b[39;00m output\n",
      "\u001b[1;31mRuntimeError\u001b[0m: The size of tensor a (7) must match the size of tensor b (1433) at non-singleton dimension 1"
     ]
    }
   ],
   "source": [
    "n_iter = 20\n",
    "\n",
    "temperatures = labels_one_hot\n",
    "temperatures[~train] = 0\n",
    "for t in range(n_iter):\n",
    "    temperatures = diffusion(graph, temperatures, train)\n",
    "    \n",
    "# temperature centering\n",
    "temperatures -= temperatures.mean(axis=0)\n",
    "\n",
    "# classification\n",
    "logits = torch.matmul(temperatures, gnn(graph, features))\n",
    "labels_pred = torch.argmax(logits, axis=1)\n",
    "\n",
    "accuracy = get_accuracy_score(labels[train].numpy(), labels_pred[train].numpy())\n",
    "print(accuracy)"
   ]
  },
  {
   "attachments": {},
   "cell_type": "markdown",
   "metadata": {},
   "source": [
    "# Quiz"
   ]
  },
  {
   "cell_type": "code",
   "execution_count": 19,
   "metadata": {},
   "outputs": [
    {
     "name": "stdout",
     "output_type": "stream",
     "text": [
      "tensor([ 0.,  0., -1.,  1.,  3.])\n"
     ]
    },
    {
     "data": {
      "text/plain": [
       "tensor([1.5000, 0.6667, 0.0000, 2.0000, 3.3333])"
      ]
     },
     "execution_count": 19,
     "metadata": {},
     "output_type": "execute_result"
    }
   ],
   "source": [
    "# Import house graph\n",
    "from sknetwork.data import house\n",
    "from IPython.display import SVG\n",
    "\n",
    "house = house(metadata=True)\n",
    "\n",
    "adjacency = house.adjacency\n",
    "position = house.position\n",
    "\n",
    "features = np.array([[0, 1],\n",
    "            [0, 1],\n",
    "            [2, 3],\n",
    "            [-2, -1],\n",
    "            [2, -1]])\n",
    "\n",
    "\n",
    "# Each layer consists of the sum of the embedding of the node and the average embedding of the neighbors, followed by a ReLu activation function.\n",
    "# Consider a neuron of the first layer, with weights w=(1/2,−1) and bias b=1\n",
    "# Compute the output of this neuron for each node of the graph, from 1 to 5\n",
    "\n",
    "# Define the weights and bias of the neuron\n",
    "w = np.array([1/2, -1])\n",
    "b = 1\n",
    "\n",
    "adjacency = adjacency.toarray()\n",
    "\n",
    "P = np.diag(1/adjacency.sum(axis=0)).dot(adjacency)\n",
    "\n",
    "P = np.eye(5) + P # add self embedding\n",
    "\n",
    "# Compute the output of the neuron for each node\n",
    "\n",
    "P = torch.Tensor(P)\n",
    "features = torch.Tensor(features)\n",
    "w = torch.Tensor(w)\n",
    "\n",
    "output = torch.matmul(features, w) + b\n",
    "print(output)\n",
    "output = torch.matmul(P, output)\n",
    "output = torch.relu(output)\n",
    "output"
   ]
  }
 ],
 "metadata": {
  "kernelspec": {
   "display_name": "Python 3 (ipykernel)",
   "language": "python",
   "name": "python3"
  },
  "language_info": {
   "codemirror_mode": {
    "name": "ipython",
    "version": 3
   },
   "file_extension": ".py",
   "mimetype": "text/x-python",
   "name": "python",
   "nbconvert_exporter": "python",
   "pygments_lexer": "ipython3",
   "version": "3.11.0"
  }
 },
 "nbformat": 4,
 "nbformat_minor": 4
}
